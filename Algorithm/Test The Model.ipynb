{
  "nbformat": 4,
  "nbformat_minor": 0,
  "metadata": {
    "colab": {
      "name": "Testing Model TFDF.ipynb",
      "provenance": [],
      "collapsed_sections": []
    },
    "kernelspec": {
      "name": "python3",
      "display_name": "Python 3"
    },
    "language_info": {
      "name": "python"
    }
  },
  "cells": [
    {
      "cell_type": "code",
      "metadata": {
        "id": "mZBTCa5Q9qHb"
      },
      "source": [
        "# Importing Libraries\n",
        "import numpy as np\n",
        "import pandas as pd \n",
        "import tensorflow_decision_forests as tfdf\n",
        "import tensorflow as tf"
      ],
      "execution_count": 1,
      "outputs": []
    },
    {
      "cell_type": "code",
      "metadata": {
        "id": "KwlaFU_09CO6"
      },
      "source": [
        "# List of Disease\n",
        "disease_list = ['Fungal infection', 'Allergy', 'GERD', 'Chronic cholestasis', 'Drug Reaction', 'Peptic ulcer disease', 'AIDS', 'Diabetes', 'Gastroenteritis', \n",
        "                'Bronchial Asthma', 'Hypertension', 'Migraine', 'Cervical spondylosis', 'Brain hemorrhage', 'Jaundice', 'Malaria', 'Chicken pox', 'Dengue', \n",
        "                'Typhoid', 'hepatitis A', 'Hepatitis B', 'Hepatitis C', 'Hepatitis D', 'Hepatitis E', 'Alcoholic hepatitis', 'Tuberculosis', 'Common Cold', \n",
        "                'Pneumonia', 'Dimorphic hemorrhoids', 'Heart attack', 'Varicose veins', 'Hypothyroidism', 'Hyperthyroidism', 'Hypoglycemia', 'Osteoarthristis', \n",
        "                'Arthritis', 'Benign paroxysmal positional vertigo', 'Acne', 'Urinary tract infection', 'Psoriasis', 'Impetigo']\n",
        "\n",
        "# Sorted list of Symptom\n",
        "symptoms_list = ['abdominal_pain', 'abnormal_menstruation', 'acidity', 'acute_liver_failure', 'altered_sensorium', \n",
        "                 'anxiety','back_pain', 'belly_pain', 'blackheads', 'bladder_discomfort', 'blister', 'blood_in_sputum', \n",
        "                 'bloody_stool','blurred_and_distorted_vision', 'breathlessness', 'brittle_nails', 'bruising', \n",
        "                 'burning_micturition', 'chest_pain', 'chills', 'cold_hands_and_feets', 'coma', 'congestion', \n",
        "                 'constipation', 'continuous_feel_of_urine', 'continuous_sneezing', 'cough', 'cramps', 'dark_urine', \n",
        "                 'dehydration', 'depression', 'diarrhoea', 'dischromic_patches', 'distention_of_abdomen', 'dizziness', \n",
        "                 'drying_and_tingling_lips', 'enlarged_thyroid', 'excessive_hunger', 'extra_marital_contacts', \n",
        "                 'family_history', 'fast_heart_rate', 'fatigue', 'fluid_overload', 'foul_smell_of_urine', 'headache', \n",
        "                 'high_fever', 'hip_joint_pain', 'history_of_alcohol_consumption', 'increased_appetite', 'indigestion', \n",
        "                 'inflammatory_nails', 'internal_itching', 'irregular_sugar_level', 'irritability', 'irritation_in_anus', \n",
        "                 'itching', 'joint_pain', 'knee_pain', 'lack_of_concentration', 'lethargy', 'loss_of_appetite', \n",
        "                 'loss_of_balance', 'loss_of_smell', 'malaise', 'mild_fever', 'mood_swings', 'movement_stiffness', \n",
        "                 'mucoid_sputum', 'muscle_pain', 'muscle_wasting', 'muscle_weakness', 'nausea', 'neck_pain', \n",
        "                 'nodal_skin_eruptions', 'obesity', 'pain_behind_the_eyes', 'pain_during_bowel_movements', \n",
        "                 'pain_in_anal_region', 'painful_walking', 'palpitations', 'passage_of_gases', 'patches_in_throat', 'phlegm', \n",
        "                 'polyuria', 'prominent_veins_on_calf', 'puffy_face_and_eyes', 'pus_filled_pimples', \n",
        "                 'receiving_blood_transfusion', 'receiving_unsterile_injections', 'red_sore_around_nose', \n",
        "                 'red_spots_over_body', 'redness_of_eyes', 'restlessness', 'runny_nose', 'rusty_sputum', 'scurring', \n",
        "                 'shivering', 'silver_like_dusting', 'sinus_pressure', 'skin_peeling', 'skin_rash', 'slurred_speech', \n",
        "                 'small_dents_in_nails', 'spinning_movements', 'spotting_urination', 'stiff_neck', 'stomach_bleeding', \n",
        "                 'stomach_pain', 'sunken_eyes', 'sweating', 'swelled_lymph_nodes', 'swelling_joints', 'swelling_of_stomach', \n",
        "                 'swollen_blood_vessels', 'swollen_extremeties', 'swollen_legs', 'throat_irritation', 'toxic_look', \n",
        "                 'ulcers_on_tongue', 'unsteadiness', 'visual_disturbances', 'vomiting', 'watering_from_eyes', \n",
        "                 'weakness_in_limbs', 'weakness_of_one_body_side', 'weight_gain', 'weight_loss', 'yellow_crust_ooze', \n",
        "                 'yellow_urine', 'yellowing_of_eyes', 'yellowish_skin']"
      ],
      "execution_count": 2,
      "outputs": []
    },
    {
      "cell_type": "code",
      "metadata": {
        "id": "ymkhcfxu876y"
      },
      "source": [
        "# Importing model\n",
        "# Make sure the model file is in the path  \n",
        "model_path = '/saved_model/my_model'\n",
        "imported = tf.keras.models.load_model(model_path) "
      ],
      "execution_count": 3,
      "outputs": []
    },
    {
      "cell_type": "code",
      "metadata": {
        "id": "8PZg0bCz9QID"
      },
      "source": [
        "# User inputs will be like this\n",
        "user_inputs = {\n",
        "    \"symptom_1\": \"itching\",\n",
        "    \"symptom_2\": \"nodal_skin_eruptions\",\n",
        "    \"symptom_3\": \"dischromic_patches\",\n",
        "    \"symptom_4\": \"skin_rash\"\n",
        "}\n",
        "\n",
        "# Defining the inputs for the model\n",
        "model_inputs = []\n",
        "for i in symptoms_list:\n",
        "    model_inputs.append(float(0))\n",
        "\n",
        "# Creating the inputs list for the model\n",
        "for i in user_inputs.values():\n",
        "    if i != '0':\n",
        "        symptom_index = symptoms_list.index(i)\n",
        "        model_inputs[symptom_index] = float(1)\n",
        "\n",
        "# Creating the Input DataFrame and convert to tensorflow dataset\n",
        "df_inputs = pd.DataFrame([model_inputs], columns=symptoms_list)\n",
        "model_inputs = tfdf.keras.pd_dataframe_to_tf_dataset(df_inputs, label=None)"
      ],
      "execution_count": 4,
      "outputs": []
    },
    {
      "cell_type": "code",
      "metadata": {
        "colab": {
          "base_uri": "https://localhost:8080/"
        },
        "id": "N3Mivx569t8O",
        "outputId": "7f549b4c-f7a4-4e54-d84d-c73cd50f4c50"
      },
      "source": [
        "# Predict the data\n",
        "prediction = imported.predict(model_inputs)\n",
        "predicted = prediction[0]\n",
        "\n",
        "# Predicted data will be list of the probability  based on Disease List Index\n",
        "print(predicted)"
      ],
      "execution_count": 5,
      "outputs": [
        {
          "output_type": "stream",
          "text": [
            "[0.9933325  0.         0.         0.         0.         0.\n",
            " 0.         0.         0.         0.         0.         0.\n",
            " 0.         0.         0.         0.         0.         0.\n",
            " 0.         0.         0.         0.         0.         0.\n",
            " 0.         0.         0.         0.         0.         0.\n",
            " 0.         0.         0.         0.         0.         0.\n",
            " 0.         0.00666667 0.         0.         0.        ]\n"
          ],
          "name": "stdout"
        }
      ]
    },
    {
      "cell_type": "code",
      "metadata": {
        "colab": {
          "base_uri": "https://localhost:8080/"
        },
        "id": "zHwwL4gi9zZY",
        "outputId": "1021b493-50c5-4ff7-92f6-a8cf532d65cf"
      },
      "source": [
        "# Initialize the highest probability variable\n",
        "highest_probability = max(predicted)\n",
        "\n",
        "# Catch the disease index\n",
        "disease_index = np.where(predicted == highest_probability)\n",
        "disease_index = disease_index[0][0]\n",
        "\n",
        "# Find the disease based on the disease index\n",
        "predicted_disease = disease_list[disease_index]\n",
        "\n",
        "# The probability percentage\n",
        "probability = highest_probability*100\n",
        "\n",
        "print(f'Probability: {probability} %')\n",
        "print(f'Predicted disease: {predicted_disease}\\n')"
      ],
      "execution_count": 6,
      "outputs": [
        {
          "output_type": "stream",
          "text": [
            "Probability: 99.33325052261353 %\n",
            "Predicted disease: Fungal infection\n",
            "\n"
          ],
          "name": "stdout"
        }
      ]
    }
  ]
}